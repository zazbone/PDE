{
 "metadata": {
  "language_info": {
   "codemirror_mode": {
    "name": "ipython",
    "version": 3
   },
   "file_extension": ".py",
   "mimetype": "text/x-python",
   "name": "python",
   "nbconvert_exporter": "python",
   "pygments_lexer": "ipython3",
   "version": "3.9.5-final"
  },
  "orig_nbformat": 2,
  "kernelspec": {
   "name": "pde",
   "display_name": "PDE"
  }
 },
 "nbformat": 4,
 "nbformat_minor": 2,
 "cells": [
  {
   "source": [
    "# PDE\n",
    "$\\frac{\\partial}{\\partial t}U(t, x) -\\mu\\frac{\\partial^2}{\\partial x^2}U(t, x)=0$"
   ],
   "cell_type": "markdown",
   "metadata": {}
  },
  {
   "cell_type": "code",
   "execution_count": null,
   "metadata": {},
   "outputs": [],
   "source": [
    "import numpy as np\n",
    "\n",
    "import matplotlib.pyplot as plt\n",
    "\n",
    "from IPython.display import Image"
   ]
  },
  {
   "cell_type": "code",
   "execution_count": null,
   "metadata": {},
   "outputs": [],
   "source": [
    "from utils import IMAGE_FOLDER"
   ]
  },
  {
   "cell_type": "code",
   "execution_count": null,
   "metadata": {},
   "outputs": [],
   "source": [
    "import PDE"
   ]
  },
  {
   "source": [
    "# Crank Nicolson\n",
    "\n",
    "At t + $\\frac{1}{2}$ and x\n",
    "\n",
    "$\\frac{1}{dt}(u_{t + 1, x} - u_{t - 1, x}) - \\frac{\\mu}{dx^2}(u_{t + \\frac{1}{2}, x + 1} - 2u_{t + \\frac{1}{2}, x} + u_{t + \\frac{1}{2}, x + 1}) = 0$\n",
    "\n",
    "Let r = $\\frac{\\mu dt}{dx^2}$\n",
    "\n",
    "$u_{t + 1, x} - u_{t - 1, x} = r(u_{t + \\frac{1}{2}, x + 1} - 2u_{t + \\frac{1}{2}, x} + u_{t + \\frac{1}{2}, x + 1})$\n",
    "\n",
    "$u_{t + 1, x} - u_{t - 1, x} = 0.5 r(u_{t + 1, x + 1} + u_{t, x + 1} - 2u_{t + 1, x} - 2u_{t, x} + u_{t + 1, x + 1} + u_{t, x + 1})$\n",
    "\n",
    "$\\Rightarrow - r u_{t + 1, x + 1} + 2(1 + r)u_{t + 1, x} - r u_{t + 1, x - 1} = r u_{t + 1, x + 1} + 2(1 - r)u_{t + 1, x} + r u_{t + 1, x - 1}$\n",
    "\n",
    "At limit we use boundary condition\n",
    "\n",
    "\n",
    "For all x value we get the system:\n",
    "\n",
    "$\n",
    "\\begin{pmatrix}\n",
    "2(1 + r) & -r       & 0        & 0        & 0        & 0        \\\\\n",
    "-r       & 2(1 + r) & -r       & 0        & 0        & 0        \\\\\n",
    "0        & -r       & 2(1 + r) & -r       & 0        & 0        \\\\\n",
    "0        & 0        & -r       & 2(1 + r) & -r       & 0        \\\\\n",
    "0        & 0        & 0        & -r       & 2(1 + r) & -r       \\\\\n",
    "0        & 0        & 0        & 0        & -r       & 2(1 + r)\n",
    "\\end{pmatrix} \\times\n",
    "\\begin{pmatrix}\n",
    "x_0 \\\\\n",
    "x_1 \\\\\n",
    "x_2 \\\\\n",
    "x_3 \\\\\n",
    "x_4 \\\\\n",
    "x_5\n",
    "\\end{pmatrix}_{t+1} =\n",
    "\\begin{pmatrix}\n",
    "b_0 \\\\\n",
    "b_1 \\\\\n",
    "b_2 \\\\\n",
    "b_3 \\\\\n",
    "b_4 \\\\\n",
    "b_5\n",
    "\\end{pmatrix}\n",
    "$\n",
    "\n",
    "With b =\n",
    "$\n",
    "\\begin{pmatrix}\n",
    "b_0 \\\\\n",
    "b_1 \\\\\n",
    "b_2 \\\\\n",
    "b_3 \\\\\n",
    "b_4 \\\\\n",
    "b_5\n",
    "\\end{pmatrix} =\n",
    "\\begin{pmatrix}\n",
    "2(1 - r) & r        & 0        & 0        & 0        & 0        \\\\\n",
    "r        & 2(1 - r) & r        & 0        & 0        & 0        \\\\\n",
    "0        & r        & 2(1 - r) & r        & 0        & 0        \\\\\n",
    "0        & 0        & r        & 2(1 - r) & r        & 0        \\\\\n",
    "0        & 0        & 0        & r        & 2(1 - r) & r        \\\\\n",
    "0        & 0        & 0        & 0        & r        & 2(1 - r)\n",
    "\\end{pmatrix}\\times\n",
    "\\begin{pmatrix}\n",
    "x_0 \\\\\n",
    "x_1 \\\\\n",
    "x_2 \\\\\n",
    "x_3 \\\\\n",
    "x_4 \\\\\n",
    "x_5\n",
    "\\end{pmatrix}_{t}\n",
    "$\n",
    "\n",
    "\n",
    "Values at boundary does not matter because of boundary condition"
   ],
   "cell_type": "markdown",
   "metadata": {}
  },
  {
   "cell_type": "code",
   "execution_count": null,
   "metadata": {},
   "outputs": [],
   "source": [
    "# Initials conditions\n",
    "\n",
    "mu = 0.5\n",
    "\n",
    "x_min = 0\n",
    "x_max = 4 * np.pi\n",
    "dx = 0.1\n",
    "x_axes = np.arange(x_min, x_max, dx)\n",
    "\n",
    "u0 = np.sin(x_axes)\n",
    "\n",
    "t0 = 0\n",
    "dt = 0.1\n",
    "T = 20"
   ]
  },
  {
   "cell_type": "code",
   "execution_count": null,
   "metadata": {},
   "outputs": [],
   "source": [
    "# Bondary conditions\n",
    "\n",
    "def bound(u): \n",
    "    u[0] = 0\n",
    "    u[-1] = 0.5\n",
    "    return u"
   ]
  },
  {
   "cell_type": "code",
   "execution_count": null,
   "metadata": {},
   "outputs": [],
   "source": [
    "un = bound(u0)\n",
    "states = [un]\n",
    "\n",
    "r = mu * dt / dx ** 2\n",
    "A = PDE.utils.tridiag(np.array([-r, 2 + 2 * r, -r]), len(un))\n",
    "B = PDE.utils.tridiag(np.array([r, 2 - 2 * r, r]), len(un))\n",
    "\n",
    "\n",
    "for t in np.arange(t0, T, dt):\n",
    "    d = B.dot(un)\n",
    "    un = bound(PDE.solve.thomas(A, un, d))\n",
    "    states.append(un)\n",
    "\n"
   ]
  },
  {
   "cell_type": "code",
   "execution_count": null,
   "metadata": {},
   "outputs": [],
   "source": [
    "image_path = IMAGE_FOLDER / \"heat_eq1.jpeg\"\n",
    "image_array = np.vstack(states).T\n",
    "image = plt.cm.jet(np.clip(image_array, -1, 1)) \n",
    "plt.imsave(image_path, image)"
   ]
  },
  {
   "source": [
    "![image](image/heat_eq1.jpeg)"
   ],
   "cell_type": "markdown",
   "metadata": {}
  }
 ]
}