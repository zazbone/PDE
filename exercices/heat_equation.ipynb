{
 "metadata": {
  "language_info": {
   "codemirror_mode": {
    "name": "ipython",
    "version": 3
   },
   "file_extension": ".py",
   "mimetype": "text/x-python",
   "name": "python",
   "nbconvert_exporter": "python",
   "pygments_lexer": "ipython3",
   "version": "3.9.5-final"
  },
  "orig_nbformat": 2,
  "kernelspec": {
   "name": "pde",
   "display_name": "PDE"
  }
 },
 "nbformat": 4,
 "nbformat_minor": 2,
 "cells": [
  {
   "source": [
    "# PDE\n",
    "$\\frac{\\partial}{\\partial t}U(t, x) -\\mu\\frac{\\partial^2}{\\partial x^2}U(t, x)=0$"
   ],
   "cell_type": "markdown",
   "metadata": {}
  },
  {
   "cell_type": "code",
   "execution_count": null,
   "metadata": {},
   "outputs": [],
   "source": [
    "import numpy as np\n",
    "\n",
    "%matplotlib inline\n",
    "\n",
    "from IPython.display import HTML\n",
    "\n"
   ]
  },
  {
   "cell_type": "code",
   "execution_count": null,
   "metadata": {},
   "outputs": [],
   "source": [
    "from PDE.animations import anim1D\n",
    "from PDE import MODULE_PATH"
   ]
  },
  {
   "source": [
    "# First order expansion\n",
    "\n",
    "$\\frac{0.5}{dt}(u_{t + 1, x} - u_{t - 1, x}) - \\frac{\\mu}{dx^2}(u_{t, x + 1} - 2u_{t, x} + u_{t, x + 1}) = 0$\n",
    "\n",
    "$\\Rightarrow u_{t + 1, x} = \\frac{2\\mu dt}{dx^2}(u_{t, x + 1} - 2u_{t, x} + u_{t, x + 1}) + u_{t - 1, x}$\n",
    "\n",
    "For first iteration, $u_{t - 1, x}$ is unreachable, we need to use backyard methode of first order\n",
    "\n",
    "$\\frac{1}{dt}(u_{t + 1, x} - u_{t, x}) - \\frac{\\mu}{dx^2}(u_{t, x + 1} - 2u_{t, x} + u_{t, x + 1}) = 0$\n",
    "\n",
    "$\\Rightarrow u_{t + 1, x} = \\frac{\\mu dt}{dx^2}(u_{t, x + 1} - 2u_{t, x} + u_{t, x + 1}) + u_{t, x}$\n",
    "\n",
    "And for $u_{t, 0}$, $u_{t, X}$ we use forward and backyard methode on second order\n",
    "\n",
    "$\\Rightarrow u_{t + 1, 0} = \\frac{\\mu dt}{dx^2}(4u_{t, 0} - 10u_{t, 1} + 8u_{t, 2} - 2 u_{t, 3}) + u_{t - 1, 0}$\n",
    "\n",
    "$\\Rightarrow u_{t + 1, X} = \\frac{\\mu dt}{dx^2}(4u_{t, X} - 10u_{t, X - 1} + 8u_{t, X - 2} - 2 u_{t, X - 3}) + u_{t - 1, X}$\n"
   ],
   "cell_type": "markdown",
   "metadata": {}
  },
  {
   "cell_type": "code",
   "execution_count": null,
   "metadata": {},
   "outputs": [],
   "source": [
    "# Initials conditions\n",
    "\n",
    "mu = 0.5\n",
    "\n",
    "x_min = 0\n",
    "x_max = 10\n",
    "dx = 0.1\n",
    "x_axes = np.arange(x_min, x_max, dx)\n",
    "\n",
    "u0 = np.sin(x_axes)\n",
    "\n",
    "t0 = 0\n",
    "dt = 0.1\n",
    "T = 10"
   ]
  },
  {
   "cell_type": "code",
   "execution_count": null,
   "metadata": {},
   "outputs": [],
   "source": [
    "# Bondary conditions\n",
    "\n",
    "def bound(u):\n",
    "    u[0] = 0\n",
    "    u[-1] = 0.5\n",
    "    return u"
   ]
  },
  {
   "cell_type": "code",
   "execution_count": null,
   "metadata": {},
   "outputs": [],
   "source": [
    "un = bound(u0)\n",
    "states = [un]\n",
    "\n",
    "# Fast calc\n",
    "over_dx = 1 / dx\n",
    "over_dx2 = 1 / dx ** 2\n",
    "dt_over_dx = dt / dx\n",
    "dt_over_dx2 = dt / dx ** 2\n",
    "\n",
    "\n",
    "def derive_t0(u):\n",
    "    u = mu * dt_over_dx2 * (np.roll(u, 1) - 2 * u + np.roll(u, - 1)) + u\n",
    "    u[0] = mu * dt_over_dx2 * (2 * u[0] - 5 * u[1] + 4 * u[2] - u[3]) + u[0]\n",
    "    u[-1] = mu * dt_over_dx2 * (2 * u[-1] - 5 * u[-2] + 4 * u[-3] - u[-4]) + u[-1]\n",
    "    return u\n",
    "\n",
    "def derive(states, i):\n",
    "    u = states[i - 1]\n",
    "    ul = states[i - 2]\n",
    "    u = 2 * mu * dt_over_dx2 *  (np.roll(u, 1) - 2 * u + np.roll(u, - 1)) + ul\n",
    "    u[0] = 2 * mu * dt_over_dx2 * (2 * u[0] - 5 * u[1] + 4 * u[2] - u[3]) + ul[0]\n",
    "    u[-1] = 2 * mu * dt_over_dx2 * (2 * u[-1] - 5 * u[-2] + 4 * u[-3] - u[-4]) + ul[-1]\n",
    "    return u\n",
    "\n",
    "\n",
    "for i, t in enumerate(np.arange(t0, T, dt), start=1):\n",
    "    if i == 1:  # t0 - 1 inexistant\n",
    "        un = bound(derive_t0(un))\n",
    "    else:\n",
    "        un = bound(derive(states, i))\n",
    "    states.append(un)\n",
    "\n"
   ]
  },
  {
   "cell_type": "code",
   "execution_count": null,
   "metadata": {},
   "outputs": [],
   "source": [
    "anim = anim1D(x_axes, states, dt, [x_min, x_max, -1, 1])\n",
    "anim.save(MODULE_PATH / \"../exercices/heat_eq1.mp4\")"
   ]
  },
  {
   "cell_type": "code",
   "execution_count": null,
   "metadata": {},
   "outputs": [],
   "source": [
    "HTML(anim.to_html5_video())"
   ]
  },
  {
   "cell_type": "code",
   "execution_count": null,
   "metadata": {},
   "outputs": [],
   "source": []
  }
 ]
}