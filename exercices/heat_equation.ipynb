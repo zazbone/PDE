{
 "metadata": {
  "language_info": {
   "codemirror_mode": {
    "name": "ipython",
    "version": 3
   },
   "file_extension": ".py",
   "mimetype": "text/x-python",
   "name": "python",
   "nbconvert_exporter": "python",
   "pygments_lexer": "ipython3",
   "version": "3.9.5-final"
  },
  "orig_nbformat": 2,
  "kernelspec": {
   "name": "pde",
   "display_name": "PDE"
  }
 },
 "nbformat": 4,
 "nbformat_minor": 2,
 "cells": [
  {
   "source": [
    "# PDE\n",
    "$\\frac{\\partial}{\\partial t}U(t, x) -\\mu\\frac{\\partial^2}{\\partial x^2}U(t, x)=0$"
   ],
   "cell_type": "markdown",
   "metadata": {}
  },
  {
   "cell_type": "code",
   "execution_count": 6,
   "metadata": {},
   "outputs": [],
   "source": [
    "import numpy as np\n",
    "\n",
    "import matplotlib.pyplot as plt\n",
    "%matplotlib inline"
   ]
  },
  {
   "cell_type": "code",
   "execution_count": null,
   "metadata": {},
   "outputs": [],
   "source": []
  },
  {
   "source": [
    "# First order expansion\n",
    "\n",
    "$\\frac{0.5}{dt}(u_{t + 1, x} - u_{t - 1, x}) - \\frac{\\mu}{dx^2}(u_{t, x + 1} - 2u_{t, x} + u_{t, x + 1}) = 0$\n",
    "\n",
    "$\\Rightarrow u_{t + 1, x} = \\frac{2\\mu dt}{dx^2}(u_{t, x + 1} - 2u_{t, x} + u_{t, x + 1}) + u_{t - 1, x}$\n",
    "\n",
    "For first iteration, $u_{t - 1, x}$ is unreachable, we need to use backyard methode of first order\n",
    "\n",
    "$\\frac{1}{dt}(u_{t + 1, x} - u_{t, x}) - \\frac{\\mu}{dx^2}(u_{t, x + 1} - 2u_{t, x} + u_{t, x + 1}) = 0$\n",
    "\n",
    "$\\Rightarrow u_{t + 1, x} = \\frac{\\mu dt}{dx^2}(u_{t, x + 1} - 2u_{t, x} + u_{t, x + 1}) + u_{t, x}$\n",
    "\n",
    "And for $u_{t, 0}$, $u_{t, X}$ we use forward and backyard methode on second order\n",
    "\n",
    "$\\Rightarrow u_{t + 1, 0} = \\frac{\\mu dt}{dx^2}(4u_{t, 0} - 10u_{t, 1} + 8u_{t, 2} - 2 u_{t, 3}) + u_{t - 1, 0}$\n",
    "\n",
    "$\\Rightarrow u_{t + 1, X} = \\frac{\\mu dt}{dx^2}(4u_{t, X} - 10u_{t, X - 1} + 8u_{t, X - 2} - 2 u_{t, X - 3}) + u_{t - 1, X}$\n"
   ],
   "cell_type": "markdown",
   "metadata": {}
  },
  {
   "cell_type": "code",
   "execution_count": 7,
   "metadata": {},
   "outputs": [],
   "source": [
    "# Initials conditions\n",
    "\n",
    "mu = 0.5\n",
    "\n",
    "x_min = 0\n",
    "x_max = 3 * np.pi\n",
    "dx = 0.1\n",
    "x_axes = np.arange(x_min, x_max, dx)\n",
    "\n",
    "u0 = np.sin(x_axes)\n",
    "\n",
    "t0 = 0\n",
    "dt = 0.1\n",
    "T = 20"
   ]
  },
  {
   "cell_type": "code",
   "execution_count": 8,
   "metadata": {},
   "outputs": [],
   "source": [
    "# Bondary conditions\n",
    "\n",
    "def bound(u):\n",
    "    return u"
   ]
  },
  {
   "cell_type": "code",
   "execution_count": 9,
   "metadata": {},
   "outputs": [],
   "source": [
    "un = bound(u0)\n",
    "u_prim = []\n",
    "states = [un]\n",
    "\n",
    "# Fast calc\n",
    "over_dx = 1 / dx\n",
    "over_dx2 = 1 / dx ** 2\n",
    "dt_over_dx = dt / dx\n",
    "dt_over_dx2 = dt / dx ** 2\n",
    "\n",
    "\n",
    "def derive_t0(u):\n",
    "    u = mu * dt_over_dx2 * (np.roll(u, 1) - 2 * u + np.roll(u, - 1)) + u\n",
    "    #u[0] = mu * dt_over_dx2 * (2 * u[0] - 5 * u[1] + 4 * u[2] - u[3]) + u[0]\n",
    "    #u[-1] = mu * dt_over_dx2 * (2 * u[-1] - 5 * u[-2] + 4 * u[-3] - u[-4]) + u[-1]\n",
    "    return u\n",
    "\n",
    "def derive(states, i):\n",
    "    u = states[i - 1]\n",
    "    ul = states[i - 2]\n",
    "    u = 2 * mu * dt_over_dx2 *  (np.roll(u, 1) - 2 * u + np.roll(u, - 1)) + ul\n",
    "    #u[0] = 2 * mu * dt_over_dx2 * (2 * u[0] - 5 * u[1] + 4 * u[2] - u[3]) + ul[0]\n",
    "    #u[-1] = 2 * mu * dt_over_dx2 * (2 * u[-1] - 5 * u[-2] + 4 * u[-3] - u[-4]) + ul[-1]\n",
    "    return u\n",
    "\n",
    "\n",
    "for i, t in enumerate(np.arange(t0, T, dt), start=1):\n",
    "    if i == 1:  # t0 - 1 inexistant\n",
    "        un = bound(derive_t0(un))\n",
    "    else:\n",
    "        un = bound(derive(states, i))\n",
    "    u_prim.append(un - states[-1])\n",
    "    states.append(un)\n",
    "\n"
   ]
  },
  {
   "cell_type": "code",
   "execution_count": 10,
   "metadata": {},
   "outputs": [
    {
     "output_type": "execute_result",
     "data": {
      "text/plain": [
       "<matplotlib.image.AxesImage at 0x7f8f95d1ca00>"
      ]
     },
     "metadata": {},
     "execution_count": 10
    },
    {
     "output_type": "display_data",
     "data": {
      "text/plain": "<Figure size 432x288 with 1 Axes>",
      "image/svg+xml": "<?xml version=\"1.0\" encoding=\"utf-8\" standalone=\"no\"?>\n<!DOCTYPE svg PUBLIC \"-//W3C//DTD SVG 1.1//EN\"\n  \"http://www.w3.org/Graphics/SVG/1.1/DTD/svg11.dtd\">\n<svg height=\"252.230852pt\" version=\"1.1\" viewBox=\"0 0 91.0769 252.230852\" width=\"91.0769pt\" xmlns=\"http://www.w3.org/2000/svg\" xmlns:xlink=\"http://www.w3.org/1999/xlink\">\n <metadata>\n  <rdf:RDF xmlns:cc=\"http://creativecommons.org/ns#\" xmlns:dc=\"http://purl.org/dc/elements/1.1/\" xmlns:rdf=\"http://www.w3.org/1999/02/22-rdf-syntax-ns#\">\n   <cc:Work>\n    <dc:type rdf:resource=\"http://purl.org/dc/dcmitype/StillImage\"/>\n    <dc:date>2021-06-14T22:37:08.029921</dc:date>\n    <dc:format>image/svg+xml</dc:format>\n    <dc:creator>\n     <cc:Agent>\n      <dc:title>Matplotlib v3.4.1, https://matplotlib.org/</dc:title>\n     </cc:Agent>\n    </dc:creator>\n   </cc:Work>\n  </rdf:RDF>\n </metadata>\n <defs>\n  <style type=\"text/css\">*{stroke-linecap:butt;stroke-linejoin:round;}</style>\n </defs>\n <g id=\"figure_1\">\n  <g id=\"patch_1\">\n   <path d=\"M 0 252.230852 \nL 91.0769 252.230852 \nL 91.0769 0 \nL 0 0 \nz\n\" style=\"fill:none;\"/>\n  </g>\n  <g id=\"axes_1\">\n   <g id=\"patch_2\">\n    <path d=\"M 39.65 228.352727 \nL 74.419642 228.352727 \nL 74.419642 10.912727 \nL 39.65 10.912727 \nz\n\" style=\"fill:#ffffff;\"/>\n   </g>\n   <g clip-path=\"url(#p992376d9ba)\">\n    <image height=\"218\" id=\"imageee436aa94d\" transform=\"scale(1 -1)translate(0 -218)\" width=\"35\" x=\"39.65\" xlink:href=\"data:image/png;base64,\niVBORw0KGgoAAAANSUhEUgAAACMAAADaCAYAAAAsRPuIAAALBklEQVR4nMVdXZLcNg7+CFE9s06cyhH8sAfcVO0R9tFb8RFzCE883ZKIPEiUQAiUembANqqcVksd4ROJfxKa8O///Z+nZ4AjAwCwfKwU1He+79pff/xXXz0lAgH994AwGv9vMMDVrrE4/2YYC5gwBgyf0wZI30h+t5gbAP/6z9tHBQAi3QD+DAy/JcTvhNvvjDAphkEdV+i9IFYw3QAEBpiA4XOavwR1TxYgKtP2HhnZgQljyTBMlXvqkanJ0geIaDAY1r5rWoB5jAoAxO7GxY2LKQnYT1H+Hj4uI5rmkWGUjDTlawtA7rjRNI0HVysMq3L1UTDdjW1DpUcp/0aM4Jc/v7qOD9HI5TRIIPqckJcM0BPQDCZTMD71OQkOfpoEAJFuDHCYjZ1gUgCssPPXplGY/xMqBLeBDFN3nfa+R4/GIi/ccfHdHQwm3hu1TFp2lFC7a1NYRKZgmumElafwAkBEEhwt23IW+TkS0XCn9D6AZpkB6iqsp7CpzAyTbWO083xj1Pc+MMwIKZSMaholAbcIIcANDMY7iQCh2sDe6NXSkSZGzxqZM0bL9S/fvvKXb45eu2BgyUtNw8RvvQARsChTzSdZ1EqbCgY1TdKk5MlLq6LJmNXnQUjqqd6zb7rH/xjA3O0M97FqeatlkkYU0QUpOQWFKeynryEwQgib0dPRv2RuZQaONgYAiLtKXKtBGcfeMhO5o42JBiSpkW2RRBwrAvMTiJgO0g/LMgtt85eZ/mBkjup7GZgjxdQdCIEV5TU1ehmMMQ0rCRBrIteAiLuAkIwrlrFjkeK2CK6mZyrTVivCs4S4QX0mTn3lSa3gXAKDf0ZJ3AHcGQzl54OIpssiMzpJ0xa3dt0TTOrFN51r1xI359g30yIzIsW1PLcFSF7zAlOMTKZaHKyE2l2ATTA/iWLqsQ+ujsqwLUOIdDGYBvWP1XH22t5GL13U/Wqe+RHZQerRTDveSjH1J4n/A1Q6E3EvbIwVu2g7I+THvYzG/RI/SEaZarWZhdztDC4JIYlKhCWwWrMaJXOR+gSmNjd/K1Hsp12mWHxaU7Vcd88O+n7aGGlhtZylJOfRpKd+mN0BoZSJzKxWSuMGAvzcH62YPpbip37Zf6AL05nuKSQ5EfU0bW773preQu6O8lO8bUDuBJHJX2a6cQOgskomNJ2WHZhf4nWWGcOqrpnmg1IX+rW7Cu6wj6WrEGrv7igjqUTbygzksQLsuuL/iW71q3eEFK4r/s95N08tcDpwCe7a9Gv3Wq0DF5issokzUYcESEbaF1lq3irs7IPy2vcYv+W8uwXugzB6mmqsFlX3t8A02IUhK3RonFVSB35Y8HQKpg8jkCtXR8y1nUGDsLMLCZjmKiZ3iwrzXGINvGQNWfV1KgNnC9wtj8odI6QttAnTvPTDYan9BqC7hjIkzVVPr9XbCQHc877IKOQoTAFIwPTEZrrrVQCYl5JTACLbMqNS2pYaFSemVWaqBWmLWmQHSTumg9lfXUItffkomInvX/wKje0OTdYj1sJMLv+5R3oDx/KMzps0GP1bXzDdxkgzO3lu95rea1F7nSlwJZhqnB3EgSOKHfU5kDJMf2ui1ywzR4XofE5VJdwXMq65Xm9pjpVHCfbuK/5ZZsJUSWcfWYX4Mc0jc5fta53e/siLB0fVTKMoADQwenlkVkaSzlh5G72X8bJ9s25+5LW9jd7fEsxPJrpOwjfV1FleF9f8ZWboy9Dg7FgKsrfMXEcxMmeJm7LK/o5y2LbGrXsiRDTXqknGBDOO3frEYQw7G7Pu1QP2U+UNZhhEjnIksAYQd0eZBtrWmiSon+AoiQexNU4CUOb/3n6WD4HBcF928IgFMgq3BUzFGR7lSf6dXzcjmZdkZZetkri18ipL85UiYwEIDdJbGrZA/JQay0zMI1OURI4S/4aAiIb359DefQfryJyVWWsru56Gj7q8jnGkIZUMwb9b8HY8ymuR8QEUd723akq4puINaN+VXKvrLeAKr92k9zYzqpHOu7PMeBu9Lre7WoAse9NwqogmJaG1EloG0pCIhhwAY//Uj15vClJmZHB1lJo0ioU3ATYMW+GvZFFgoQYt0gm6prfyf2BtBgAoDGnPqGZz1Hd/mUkH99POMR83orndNVPFuNVU2l1mwsQ72XiUY9QUwbyT3508a3nS55xoa5G2UhOdVap0133BNBw1Ah+N0ALIFQx4fhXD2rKdE8yabxIj57/RlBkg4bhz/lQpvbLcXOhMEcM47xLRPkjbmOzC9D4sR6IwJdA0VxnChMUnlY/dsqdJUuQ+IkUhK7mCJWhd2W00PZkIIZTqfEAVf+oIpqOZiSwWWeURo2Dk3y1IB+vaNTuzgPN/+4FklNW3IrBvWAJ/JxjZYbpMU9GEJ559naZWpde1ddEqv58w/fLnV3bdP7M2Ap89rVbtFkZvBQPBSKe7WtsUQLfNPLt+7YpPMjNK8VuP6SLUem+lZknbY+VR8PHglCr92lm98xtYwojmsXCcLmQGvat6576aDnu5YectuByVatcyAp3eNgiuYopLeeroDWAalPU7B6LpEvbTdFQWaUiU1MaiIivQKa5Se3evnfpwnxsw6nruu0RSRP3pJbCTVNeDFplpx+AttHWYAnv1zufkpxipBjKjzkih1VNTO+9EcdUmKzSwYhxZRnPf23mwSeSRq/0AQOnC5fv0BO1i4dZ14J3RO5IZlOfd1w7Shc3obQfCkCn/90L0XHd+R+lskxi4T8dl17PQ0xMMLkYd+KxC1UhmIskW6cxI12gkqIbhBcV+2qetdzJ0z7UvlxGgn1T4VRT7btqKQUeqrGPgBkRPshFYp686k1Q1HHej9xzHrVik6SQ4d88OPl+us8wkcd+jgtFyvYUTpQuNG5CjkEFNUYsK6NYIDJQqbeXVSqbcZeZfXd5AU/mFdgENNWrrSjYYmFufhF9y99qHvbcPtoX0RIbMZCy6G6wxbY3AQGncarZHAP7y7St7lkXoSXcl5+NK/W5XRnPUqllmwraOlFsXCzp6bke5oucwC/AKIok3gmUgaiR2I+eUXcYu8Gzal5sXltUydpqkDC3T9V4Zol/oCrZeFXQvvWVKTyiuN7R8khUX65hHTdlHor/4HIbyjJYRTQegP6ritDaP5xufhQ81IA7xML2kJ7tEb9kaCwg79t5ewrQ0AhtzcsfIuBalJwSEIexfv1sDJtTdPVXpMc2Lg8aU1LYimH9eyQPMK/fzyDB2S8W1fTStFt3XdlcO2K9B1ho7GxW05k72N9y86etV5//yGmKGMYBeQ2ldhRG0mmvcwLymHtwxOGJ1lBx5fe+VXFau9uQ6URw4rm86WONyUcJflwXzqUbyAizaBAB0C+V7x626sALiXiwauAMY4Mj2X5SxQoQAIDVIVQbuwJfFHcgI74BabV2h79Mz6JXKUakVGPOpxR65p7ffx6eyJGLV8SQo6Zu8p+ma+mKTzm6EDHbN3MHLdEF63oxHwajy3M3+5tfLeEEYaF8GAepWdpEp98Wv2yR6/Bdz/+gcewXzMl6AjtcNTxwZNMB+95UaB/fg6sfQg/JLbhZtYcIufFgDqsVfNanpXcd417TId5VnZ+puZ66jQlLzRZV8yfUvzgxD3LcNZea60pnPa4fptc1pGLrZ6NUsrSRrdBzVnNJIs+YQkD6PGxMd5UEdyxFaPj8KiPg6y0z6bUT40W03f0PlSp77iFAThoD0aUJ46fb5kDUqVrlNHb8XEIEA+rtDGEJ9GmqArPLI8u89U/YPKAlHjWUJkp0AAAAASUVORK5CYII=\" y=\"-10.352727\"/>\n   </g>\n   <g id=\"matplotlib.axis_1\">\n    <g id=\"xtick_1\">\n     <g id=\"line2d_1\">\n      <defs>\n       <path d=\"M 0 0 \nL 0 3.5 \n\" id=\"m0b7cc57f1a\" style=\"stroke:#000000;stroke-width:0.8;\"/>\n      </defs>\n      <g>\n       <use style=\"stroke:#000000;stroke-width:0.8;\" x=\"39.736492\" xlink:href=\"#m0b7cc57f1a\" y=\"228.352727\"/>\n      </g>\n     </g>\n     <g id=\"text_1\">\n      <!-- 0 -->\n      <g transform=\"translate(36.555242 242.951165)scale(0.1 -0.1)\">\n       <defs>\n        <path d=\"M 2034 4250 \nQ 1547 4250 1301 3770 \nQ 1056 3291 1056 2328 \nQ 1056 1369 1301 889 \nQ 1547 409 2034 409 \nQ 2525 409 2770 889 \nQ 3016 1369 3016 2328 \nQ 3016 3291 2770 3770 \nQ 2525 4250 2034 4250 \nz\nM 2034 4750 \nQ 2819 4750 3233 4129 \nQ 3647 3509 3647 2328 \nQ 3647 1150 3233 529 \nQ 2819 -91 2034 -91 \nQ 1250 -91 836 529 \nQ 422 1150 422 2328 \nQ 422 3509 836 4129 \nQ 1250 4750 2034 4750 \nz\n\" id=\"DejaVuSans-30\" transform=\"scale(0.015625)\"/>\n       </defs>\n       <use xlink:href=\"#DejaVuSans-30\"/>\n      </g>\n     </g>\n    </g>\n    <g id=\"xtick_2\">\n     <g id=\"line2d_2\">\n      <g>\n       <use style=\"stroke:#000000;stroke-width:0.8;\" x=\"74.33315\" xlink:href=\"#m0b7cc57f1a\" y=\"228.352727\"/>\n      </g>\n     </g>\n     <g id=\"text_2\">\n      <!-- 200 -->\n      <g transform=\"translate(64.7894 242.951165)scale(0.1 -0.1)\">\n       <defs>\n        <path d=\"M 1228 531 \nL 3431 531 \nL 3431 0 \nL 469 0 \nL 469 531 \nQ 828 903 1448 1529 \nQ 2069 2156 2228 2338 \nQ 2531 2678 2651 2914 \nQ 2772 3150 2772 3378 \nQ 2772 3750 2511 3984 \nQ 2250 4219 1831 4219 \nQ 1534 4219 1204 4116 \nQ 875 4013 500 3803 \nL 500 4441 \nQ 881 4594 1212 4672 \nQ 1544 4750 1819 4750 \nQ 2544 4750 2975 4387 \nQ 3406 4025 3406 3419 \nQ 3406 3131 3298 2873 \nQ 3191 2616 2906 2266 \nQ 2828 2175 2409 1742 \nQ 1991 1309 1228 531 \nz\n\" id=\"DejaVuSans-32\" transform=\"scale(0.015625)\"/>\n       </defs>\n       <use xlink:href=\"#DejaVuSans-32\"/>\n       <use x=\"63.623047\" xlink:href=\"#DejaVuSans-30\"/>\n       <use x=\"127.246094\" xlink:href=\"#DejaVuSans-30\"/>\n      </g>\n     </g>\n    </g>\n   </g>\n   <g id=\"matplotlib.axis_2\">\n    <g id=\"ytick_1\">\n     <g id=\"line2d_3\">\n      <defs>\n       <path d=\"M 0 0 \nL -3.5 0 \n\" id=\"m7745b3438d\" style=\"stroke:#000000;stroke-width:0.8;\"/>\n      </defs>\n      <g>\n       <use style=\"stroke:#000000;stroke-width:0.8;\" x=\"39.65\" xlink:href=\"#m7745b3438d\" y=\"10.999219\"/>\n      </g>\n     </g>\n     <g id=\"text_3\">\n      <!-- 0 -->\n      <g transform=\"translate(26.2875 14.798437)scale(0.1 -0.1)\">\n       <use xlink:href=\"#DejaVuSans-30\"/>\n      </g>\n     </g>\n    </g>\n    <g id=\"ytick_2\">\n     <g id=\"line2d_4\">\n      <g>\n       <use style=\"stroke:#000000;stroke-width:0.8;\" x=\"39.65\" xlink:href=\"#m7745b3438d\" y=\"45.595877\"/>\n      </g>\n     </g>\n     <g id=\"text_4\">\n      <!-- 200 -->\n      <g transform=\"translate(13.5625 49.395096)scale(0.1 -0.1)\">\n       <use xlink:href=\"#DejaVuSans-32\"/>\n       <use x=\"63.623047\" xlink:href=\"#DejaVuSans-30\"/>\n       <use x=\"127.246094\" xlink:href=\"#DejaVuSans-30\"/>\n      </g>\n     </g>\n    </g>\n    <g id=\"ytick_3\">\n     <g id=\"line2d_5\">\n      <g>\n       <use style=\"stroke:#000000;stroke-width:0.8;\" x=\"39.65\" xlink:href=\"#m7745b3438d\" y=\"80.192536\"/>\n      </g>\n     </g>\n     <g id=\"text_5\">\n      <!-- 400 -->\n      <g transform=\"translate(13.5625 83.991755)scale(0.1 -0.1)\">\n       <defs>\n        <path d=\"M 2419 4116 \nL 825 1625 \nL 2419 1625 \nL 2419 4116 \nz\nM 2253 4666 \nL 3047 4666 \nL 3047 1625 \nL 3713 1625 \nL 3713 1100 \nL 3047 1100 \nL 3047 0 \nL 2419 0 \nL 2419 1100 \nL 313 1100 \nL 313 1709 \nL 2253 4666 \nz\n\" id=\"DejaVuSans-34\" transform=\"scale(0.015625)\"/>\n       </defs>\n       <use xlink:href=\"#DejaVuSans-34\"/>\n       <use x=\"63.623047\" xlink:href=\"#DejaVuSans-30\"/>\n       <use x=\"127.246094\" xlink:href=\"#DejaVuSans-30\"/>\n      </g>\n     </g>\n    </g>\n    <g id=\"ytick_4\">\n     <g id=\"line2d_6\">\n      <g>\n       <use style=\"stroke:#000000;stroke-width:0.8;\" x=\"39.65\" xlink:href=\"#m7745b3438d\" y=\"114.789195\"/>\n      </g>\n     </g>\n     <g id=\"text_6\">\n      <!-- 600 -->\n      <g transform=\"translate(13.5625 118.588414)scale(0.1 -0.1)\">\n       <defs>\n        <path d=\"M 2113 2584 \nQ 1688 2584 1439 2293 \nQ 1191 2003 1191 1497 \nQ 1191 994 1439 701 \nQ 1688 409 2113 409 \nQ 2538 409 2786 701 \nQ 3034 994 3034 1497 \nQ 3034 2003 2786 2293 \nQ 2538 2584 2113 2584 \nz\nM 3366 4563 \nL 3366 3988 \nQ 3128 4100 2886 4159 \nQ 2644 4219 2406 4219 \nQ 1781 4219 1451 3797 \nQ 1122 3375 1075 2522 \nQ 1259 2794 1537 2939 \nQ 1816 3084 2150 3084 \nQ 2853 3084 3261 2657 \nQ 3669 2231 3669 1497 \nQ 3669 778 3244 343 \nQ 2819 -91 2113 -91 \nQ 1303 -91 875 529 \nQ 447 1150 447 2328 \nQ 447 3434 972 4092 \nQ 1497 4750 2381 4750 \nQ 2619 4750 2861 4703 \nQ 3103 4656 3366 4563 \nz\n\" id=\"DejaVuSans-36\" transform=\"scale(0.015625)\"/>\n       </defs>\n       <use xlink:href=\"#DejaVuSans-36\"/>\n       <use x=\"63.623047\" xlink:href=\"#DejaVuSans-30\"/>\n       <use x=\"127.246094\" xlink:href=\"#DejaVuSans-30\"/>\n      </g>\n     </g>\n    </g>\n    <g id=\"ytick_5\">\n     <g id=\"line2d_7\">\n      <g>\n       <use style=\"stroke:#000000;stroke-width:0.8;\" x=\"39.65\" xlink:href=\"#m7745b3438d\" y=\"149.385854\"/>\n      </g>\n     </g>\n     <g id=\"text_7\">\n      <!-- 800 -->\n      <g transform=\"translate(13.5625 153.185072)scale(0.1 -0.1)\">\n       <defs>\n        <path d=\"M 2034 2216 \nQ 1584 2216 1326 1975 \nQ 1069 1734 1069 1313 \nQ 1069 891 1326 650 \nQ 1584 409 2034 409 \nQ 2484 409 2743 651 \nQ 3003 894 3003 1313 \nQ 3003 1734 2745 1975 \nQ 2488 2216 2034 2216 \nz\nM 1403 2484 \nQ 997 2584 770 2862 \nQ 544 3141 544 3541 \nQ 544 4100 942 4425 \nQ 1341 4750 2034 4750 \nQ 2731 4750 3128 4425 \nQ 3525 4100 3525 3541 \nQ 3525 3141 3298 2862 \nQ 3072 2584 2669 2484 \nQ 3125 2378 3379 2068 \nQ 3634 1759 3634 1313 \nQ 3634 634 3220 271 \nQ 2806 -91 2034 -91 \nQ 1263 -91 848 271 \nQ 434 634 434 1313 \nQ 434 1759 690 2068 \nQ 947 2378 1403 2484 \nz\nM 1172 3481 \nQ 1172 3119 1398 2916 \nQ 1625 2713 2034 2713 \nQ 2441 2713 2670 2916 \nQ 2900 3119 2900 3481 \nQ 2900 3844 2670 4047 \nQ 2441 4250 2034 4250 \nQ 1625 4250 1398 4047 \nQ 1172 3844 1172 3481 \nz\n\" id=\"DejaVuSans-38\" transform=\"scale(0.015625)\"/>\n       </defs>\n       <use xlink:href=\"#DejaVuSans-38\"/>\n       <use x=\"63.623047\" xlink:href=\"#DejaVuSans-30\"/>\n       <use x=\"127.246094\" xlink:href=\"#DejaVuSans-30\"/>\n      </g>\n     </g>\n    </g>\n    <g id=\"ytick_6\">\n     <g id=\"line2d_8\">\n      <g>\n       <use style=\"stroke:#000000;stroke-width:0.8;\" x=\"39.65\" xlink:href=\"#m7745b3438d\" y=\"183.982512\"/>\n      </g>\n     </g>\n     <g id=\"text_8\">\n      <!-- 1000 -->\n      <g transform=\"translate(7.2 187.781731)scale(0.1 -0.1)\">\n       <defs>\n        <path d=\"M 794 531 \nL 1825 531 \nL 1825 4091 \nL 703 3866 \nL 703 4441 \nL 1819 4666 \nL 2450 4666 \nL 2450 531 \nL 3481 531 \nL 3481 0 \nL 794 0 \nL 794 531 \nz\n\" id=\"DejaVuSans-31\" transform=\"scale(0.015625)\"/>\n       </defs>\n       <use xlink:href=\"#DejaVuSans-31\"/>\n       <use x=\"63.623047\" xlink:href=\"#DejaVuSans-30\"/>\n       <use x=\"127.246094\" xlink:href=\"#DejaVuSans-30\"/>\n       <use x=\"190.869141\" xlink:href=\"#DejaVuSans-30\"/>\n      </g>\n     </g>\n    </g>\n    <g id=\"ytick_7\">\n     <g id=\"line2d_9\">\n      <g>\n       <use style=\"stroke:#000000;stroke-width:0.8;\" x=\"39.65\" xlink:href=\"#m7745b3438d\" y=\"218.579171\"/>\n      </g>\n     </g>\n     <g id=\"text_9\">\n      <!-- 1200 -->\n      <g transform=\"translate(7.2 222.37839)scale(0.1 -0.1)\">\n       <use xlink:href=\"#DejaVuSans-31\"/>\n       <use x=\"63.623047\" xlink:href=\"#DejaVuSans-32\"/>\n       <use x=\"127.246094\" xlink:href=\"#DejaVuSans-30\"/>\n       <use x=\"190.869141\" xlink:href=\"#DejaVuSans-30\"/>\n      </g>\n     </g>\n    </g>\n   </g>\n   <g id=\"patch_3\">\n    <path d=\"M 39.65 228.352727 \nL 39.65 10.912727 \n\" style=\"fill:none;stroke:#000000;stroke-linecap:square;stroke-linejoin:miter;stroke-width:0.8;\"/>\n   </g>\n   <g id=\"patch_4\">\n    <path d=\"M 74.419642 228.352727 \nL 74.419642 10.912727 \n\" style=\"fill:none;stroke:#000000;stroke-linecap:square;stroke-linejoin:miter;stroke-width:0.8;\"/>\n   </g>\n   <g id=\"patch_5\">\n    <path d=\"M 39.65 228.352727 \nL 74.419642 228.352727 \n\" style=\"fill:none;stroke:#000000;stroke-linecap:square;stroke-linejoin:miter;stroke-width:0.8;\"/>\n   </g>\n   <g id=\"patch_6\">\n    <path d=\"M 39.65 10.912727 \nL 74.419642 10.912727 \n\" style=\"fill:none;stroke:#000000;stroke-linecap:square;stroke-linejoin:miter;stroke-width:0.8;\"/>\n   </g>\n  </g>\n </g>\n <defs>\n  <clipPath id=\"p992376d9ba\">\n   <rect height=\"217.44\" width=\"34.769642\" x=\"39.65\" y=\"10.912727\"/>\n  </clipPath>\n </defs>\n</svg>\n",
      "image/png": "[encoded data removed]"
     },
     "metadata": {
      "needs_background": "light"
     }
    }
   ],
   "source": [
    "image_array = np.vstack(states).T\n",
    "plt.imshow(np.clip(image_array, -1, 1)) "
   ]
  },
  {
   "cell_type": "code",
   "execution_count": null,
   "metadata": {},
   "outputs": [],
   "source": []
  }
 ]
}