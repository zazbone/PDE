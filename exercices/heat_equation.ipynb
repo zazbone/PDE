{
 "metadata": {
  "language_info": {
   "codemirror_mode": {
    "name": "ipython",
    "version": 3
   },
   "file_extension": ".py",
   "mimetype": "text/x-python",
   "name": "python",
   "nbconvert_exporter": "python",
   "pygments_lexer": "ipython3",
   "version": "3.9.4-final"
  },
  "orig_nbformat": 2,
  "kernelspec": {
   "name": "pde",
   "display_name": "PDE"
  }
 },
 "nbformat": 4,
 "nbformat_minor": 2,
 "cells": [
  {
   "source": [
    "$\\frac{\\partial}{\\partial T}T(t, x) -c\\frac{\\partial^2}{\\partial x^2}T(t, x)=0$"
   ],
   "cell_type": "markdown",
   "metadata": {}
  },
  {
   "cell_type": "code",
   "execution_count": null,
   "metadata": {},
   "outputs": [],
   "source": [
    "import numpy as np\n",
    "\n",
    "from PDE import centered, creat_anim"
   ]
  },
  {
   "cell_type": "code",
   "execution_count": null,
   "metadata": {},
   "outputs": [],
   "source": [
    "u = np.sin(np.linspace(0, 1, 100) * 2 * np.pi)\n",
    "c = 1\n",
    "U = [u]\n",
    "\n",
    "T = np.linspace(0, 1, 100)\n",
    "\n",
    "for t in T:\n",
    "    u = u + c * centered(lambda x: x, centered(lambda x: x, u))\n"
   ]
  },
  {
   "cell_type": "code",
   "execution_count": null,
   "metadata": {},
   "outputs": [],
   "source": []
  }
 ]
}